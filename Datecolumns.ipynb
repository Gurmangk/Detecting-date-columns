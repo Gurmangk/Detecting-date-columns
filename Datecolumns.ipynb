{
 "cells": [
  {
   "cell_type": "code",
   "execution_count": 15,
   "metadata": {},
   "outputs": [],
   "source": [
    "import pandas as pd\n",
    "from re import search"
   ]
  },
  {
   "cell_type": "code",
   "execution_count": 46,
   "metadata": {},
   "outputs": [],
   "source": [
    "#FUNCTION TO IDENTIFY DATE COLUMNS, PREPROCESS THEM AND Creating new columns with difference of two date columns\n",
    "def datecolumns(dataframe): \n",
    "    dataframe = dataframe.fillna(0)  #fill NaN values with 0\n",
    "    l = list(dataframe.columns)\n",
    "    dc = ['Date','date','DATE']\n",
    "    for i in l:\n",
    "        for d in dc:\n",
    "            if search(d,i):\n",
    "                dataframe[i]=dataframe[i].astype('datetime64')\n",
    "    columns = list(dataframe.select_dtypes(include='datetime64').columns[0:])     #select columns with datetime dtype\n",
    "    for column in columns:\n",
    "        if columns.index(column)+1<len(columns):\n",
    "            dataframe[column] = pd.to_datetime(dataframe[column])       #convert all elememts in a column to a datetime object\n",
    "            colname = 'diff' + column[0]    #new column with name - diff'char', diff'char'...\n",
    "            dataframe[colname] = dataframe[column] - dataframe[columns[columns.index(column)+1]]    \n",
    "            dataframe[colname] = dataframe[colname]/np.timedelta64(1,'Y')     #calculating difference in terms of years and storing it in new column\n",
    "    print(dataframe)"
   ]
  },
  {
   "cell_type": "code",
   "execution_count": 47,
   "metadata": {},
   "outputs": [
    {
     "name": "stdout",
     "output_type": "stream",
     "text": [
      "      Unnamed: 0  Score  Overs   RPO  Target  Inns Result   Opposition  \\\n",
      "0            412    250   48.3  5.15     NaN     1    won      v India   \n",
      "1            680    165   48.0  3.43   251.0     2   lost   v Pakistan   \n",
      "2            413    157   48.5  3.21   168.0     2   lost      v India   \n",
      "3            681    167   43.4  3.82     NaN     1    won   v Pakistan   \n",
      "4            117    198   40.0  4.95   306.0     2   lost  v Australia   \n",
      "...          ...    ...    ...   ...     ...   ...    ...          ...   \n",
      "1291         549  340/7   50.0  6.80     NaN     1   lost    v England   \n",
      "1292         979  341/7   49.3  6.88   341.0     2    won   v Pakistan   \n",
      "1293        1296  120/8   33.0  3.63   211.0     2      -    v Ireland   \n",
      "1294         550  193/6   31.5  6.06   352.0     2      -    v England   \n",
      "1295         980  351/9   50.0  7.02     NaN     1      -   v Pakistan   \n",
      "\n",
      "          Ground   Start Date    Match_ID      Country  Country_ID  \n",
      "0        Kolkata   3 Jan 2013  ODI # 3315     Pakistan           7  \n",
      "1        Kolkata   3 Jan 2013  ODI # 3315        India           6  \n",
      "2          Delhi   6 Jan 2013  ODI # 3316     Pakistan           7  \n",
      "3          Delhi   6 Jan 2013  ODI # 3316        India           6  \n",
      "4      Melbourne  11 Jan 2013  ODI # 3317     SriLanka           8  \n",
      "...          ...          ...         ...          ...         ...  \n",
      "1291  Nottingham  17 May 2019  ODI # 4138     Pakistan           7  \n",
      "1292  Nottingham  17 May 2019  ODI # 4138      England           1  \n",
      "1293     Belfast  19 May 2019  ODI # 4139  Afghanistan          40  \n",
      "1294       Leeds  19 May 2019  ODI # 4140     Pakistan           7  \n",
      "1295       Leeds  19 May 2019  ODI # 4140      England           1  \n",
      "\n",
      "[1296 rows x 13 columns]\n"
     ]
    }
   ],
   "source": [
    "df = pd.read_csv('ODI_Match_Totals.csv')\n",
    "print(df)\n"
   ]
  },
  {
   "cell_type": "code",
   "execution_count": 48,
   "metadata": {},
   "outputs": [
    {
     "name": "stdout",
     "output_type": "stream",
     "text": [
      "      Unnamed: 0  Score  Overs   RPO  Target  Inns Result   Opposition  \\\n",
      "0            412    250   48.3  5.15     0.0     1    won      v India   \n",
      "1            680    165   48.0  3.43   251.0     2   lost   v Pakistan   \n",
      "2            413    157   48.5  3.21   168.0     2   lost      v India   \n",
      "3            681    167   43.4  3.82     0.0     1    won   v Pakistan   \n",
      "4            117    198   40.0  4.95   306.0     2   lost  v Australia   \n",
      "...          ...    ...    ...   ...     ...   ...    ...          ...   \n",
      "1291         549  340/7   50.0  6.80     0.0     1   lost    v England   \n",
      "1292         979  341/7   49.3  6.88   341.0     2    won   v Pakistan   \n",
      "1293        1296  120/8   33.0  3.63   211.0     2      -    v Ireland   \n",
      "1294         550  193/6   31.5  6.06   352.0     2      -    v England   \n",
      "1295         980  351/9   50.0  7.02     0.0     1      -   v Pakistan   \n",
      "\n",
      "          Ground Start Date    Match_ID      Country  Country_ID  \n",
      "0        Kolkata 2013-01-03  ODI # 3315     Pakistan           7  \n",
      "1        Kolkata 2013-01-03  ODI # 3315        India           6  \n",
      "2          Delhi 2013-01-06  ODI # 3316     Pakistan           7  \n",
      "3          Delhi 2013-01-06  ODI # 3316        India           6  \n",
      "4      Melbourne 2013-01-11  ODI # 3317     SriLanka           8  \n",
      "...          ...        ...         ...          ...         ...  \n",
      "1291  Nottingham 2019-05-17  ODI # 4138     Pakistan           7  \n",
      "1292  Nottingham 2019-05-17  ODI # 4138      England           1  \n",
      "1293     Belfast 2019-05-19  ODI # 4139  Afghanistan          40  \n",
      "1294       Leeds 2019-05-19  ODI # 4140     Pakistan           7  \n",
      "1295       Leeds 2019-05-19  ODI # 4140      England           1  \n",
      "\n",
      "[1296 rows x 13 columns]\n"
     ]
    }
   ],
   "source": [
    "datecolumns(df)"
   ]
  },
  {
   "cell_type": "code",
   "execution_count": null,
   "metadata": {},
   "outputs": [],
   "source": []
  }
 ],
 "metadata": {
  "kernelspec": {
   "display_name": "Python 3",
   "language": "python",
   "name": "python3"
  },
  "language_info": {
   "codemirror_mode": {
    "name": "ipython",
    "version": 3
   },
   "file_extension": ".py",
   "mimetype": "text/x-python",
   "name": "python",
   "nbconvert_exporter": "python",
   "pygments_lexer": "ipython3",
   "version": "3.7.4"
  }
 },
 "nbformat": 4,
 "nbformat_minor": 2
}
